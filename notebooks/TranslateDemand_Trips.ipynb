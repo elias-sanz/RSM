{
 "cells": [
  {
   "cell_type": "code",
   "execution_count": null,
   "id": "4fc00298",
   "metadata": {},
   "outputs": [],
   "source": [
    "import requests\n",
    "\n",
    "from sandag_rsm.data_load.zones import load_mgra_data\n",
    "from sandag_rsm.data_load.triplist import load_trip_list, trip_mode_shares_by_mgra, trip_mode_shares_by_taz\n",
    "from sandag_rsm.poi import poi_taz_mgra, attach_poi_taz_skims\n",
    "from sandag_rsm.zone_agg import aggregate_zones, viewer, viewer2, aggregate_zones_within_districts, merge_zone_data\n",
    "\n",
    "from sandag_rsm.translate import translate_demand\n",
    "import os\n",
    "import math\n",
    "import numpy as np\n",
    "import pandas as pd\n",
    "import geopandas as gpd"
   ]
  },
  {
   "cell_type": "markdown",
   "id": "de5861aa",
   "metadata": {},
   "source": [
    "## Remote I/O"
   ]
  },
  {
   "cell_type": "code",
   "execution_count": null,
   "id": "1d4896bb",
   "metadata": {},
   "outputs": [],
   "source": [
    "data_dir = \"../test/data/omx/\"\n",
    "export_dir = \"../test/export/\"\n",
    "resource_url = \"https://media.githubusercontent.com/media/wsp-sag/client_sandag_rsm_resources/main/\""
   ]
  },
  {
   "cell_type": "code",
   "execution_count": null,
   "id": "4f6ca008",
   "metadata": {},
   "outputs": [],
   "source": [
    "skim_filename = \"traffic_skims_AM_mini.omx\"\n",
    "matrix_name = 'AM_SOV_TR_M_TIME'"
   ]
  },
  {
   "cell_type": "raw",
   "id": "9323795c-fa59-4669-bc08-56b5b4732066",
   "metadata": {},
   "source": [
    "for download_file in download_files_vector:\n",
    "    r = requests.get((resource_url+download_file), allow_redirects=True)\n",
    "    open((data_dir+download_file), 'wb').write(r.content)"
   ]
  },
  {
   "cell_type": "code",
   "execution_count": null,
   "id": "ffe5f542-5c4e-4c17-8fd0-ed95d9c0cc96",
   "metadata": {},
   "outputs": [],
   "source": [
    "## Use Prototype Crosswalks for Testing\n",
    "zone_to_cluster = pd.read_csv(os.path.join(data_dir, '..', 'taz_crosswalk.csv')).sort_values('taz')\n",
    "zone_to_cluster['taz'] = zone_to_cluster['taz'] - 1\n",
    "zone_to_cluster = dict(zip(zone_to_cluster['taz'], zone_to_cluster['cluster_id']))"
   ]
  },
  {
   "cell_type": "markdown",
   "id": "fe41ea9a",
   "metadata": {},
   "source": [
    "## Demo"
   ]
  },
  {
   "cell_type": "code",
   "execution_count": null,
   "id": "ae978de4-9edb-430d-9e48-2cc5b66531b5",
   "metadata": {},
   "outputs": [],
   "source": [
    "skim_filenames_list = [\n",
    "    'trip_AM.omx',\n",
    "    'trip_EA.omx',\n",
    "    'trip_EV.omx',\n",
    "    'trip_MD.omx',\n",
    "    'trip_PM.omx',\n",
    "    ]"
   ]
  },
  {
   "cell_type": "raw",
   "id": "a6cd03ae-694f-4e16-9c0c-29757ffc7e87",
   "metadata": {},
   "source": [
    "table_list = [\n",
    "    'AM_HOV2_H',\n",
    "    'AM_HOV2_L',\n",
    "    'AM_HOV2_M',\n",
    "    'AM_HOV3_H',\n",
    "    'AM_HOV3_L',\n",
    "    'AM_HOV3_M',\n",
    "    'AM_SOV_NT_H',\n",
    "    'AM_SOV_NT_L',\n",
    "    'AM_SOV_NT_M',\n",
    "    'AM_SOV_TR_H',\n",
    "    'AM_SOV_TR_L',\n",
    "    'AM_SOV_TR_M',\n",
    "    'AM_TRK_H',\n",
    "    'AM_TRK_L',\n",
    "    'AM_TRK_M'\n",
    "    ]"
   ]
  },
  {
   "cell_type": "code",
   "execution_count": null,
   "id": "81f2d11f-7f7d-40f8-a9c9-d4454cfaf93b",
   "metadata": {},
   "outputs": [],
   "source": [
    "for skim_filename in skim_filenames_list:\n",
    "    translate_demand(skim_filename, zone_to_cluster, matrix_list=None, data_dir=data_dir, export_dir=export_dir)"
   ]
  },
  {
   "cell_type": "code",
   "execution_count": null,
   "id": "da9761de-2fec-4ba5-a5c1-f0f276398195",
   "metadata": {},
   "outputs": [],
   "source": []
  }
 ],
 "metadata": {
  "kernelspec": {
   "display_name": "Python 3 (ipykernel)",
   "language": "python",
   "name": "python3"
  },
  "language_info": {
   "codemirror_mode": {
    "name": "ipython",
    "version": 3
   },
   "file_extension": ".py",
   "mimetype": "text/x-python",
   "name": "python",
   "nbconvert_exporter": "python",
   "pygments_lexer": "ipython3",
   "version": "3.9.10"
  },
  "toc": {
   "base_numbering": 1,
   "nav_menu": {},
   "number_sections": false,
   "sideBar": true,
   "skip_h1_title": false,
   "title_cell": "Table of Contents",
   "title_sidebar": "Contents",
   "toc_cell": false,
   "toc_position": {},
   "toc_section_display": true,
   "toc_window_display": false
  }
 },
 "nbformat": 4,
 "nbformat_minor": 5
}
